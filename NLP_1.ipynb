{
  "nbformat": 4,
  "nbformat_minor": 0,
  "metadata": {
    "colab": {
      "provenance": [],
      "authorship_tag": "ABX9TyP7iiUrU4fM7+2L3uiAjy7O",
      "include_colab_link": true
    },
    "kernelspec": {
      "name": "python3",
      "display_name": "Python 3"
    },
    "language_info": {
      "name": "python"
    }
  },
  "cells": [
    {
      "cell_type": "markdown",
      "metadata": {
        "id": "view-in-github",
        "colab_type": "text"
      },
      "source": [
        "<a href=\"https://colab.research.google.com/github/vidushi00/nlp/blob/main/NLP_1.ipynb\" target=\"_parent\"><img src=\"https://colab.research.google.com/assets/colab-badge.svg\" alt=\"Open In Colab\"/></a>"
      ]
    },
    {
      "cell_type": "code",
      "execution_count": null,
      "metadata": {
        "colab": {
          "base_uri": "https://localhost:8080/"
        },
        "id": "oPS_mEzCYhN6",
        "outputId": "1a248aff-774a-45a5-8705-4e90801fef74"
      },
      "outputs": [
        {
          "output_type": "stream",
          "name": "stdout",
          "text": [
            "Requirement already satisfied: nltk in /usr/local/lib/python3.11/dist-packages (3.9.1)\n",
            "Requirement already satisfied: click in /usr/local/lib/python3.11/dist-packages (from nltk) (8.1.8)\n",
            "Requirement already satisfied: joblib in /usr/local/lib/python3.11/dist-packages (from nltk) (1.4.2)\n",
            "Requirement already satisfied: regex>=2021.8.3 in /usr/local/lib/python3.11/dist-packages (from nltk) (2024.11.6)\n",
            "Requirement already satisfied: tqdm in /usr/local/lib/python3.11/dist-packages (from nltk) (4.67.1)\n"
          ]
        }
      ],
      "source": [
        "pip install nltk"
      ]
    },
    {
      "cell_type": "code",
      "source": [
        "import nltk"
      ],
      "metadata": {
        "id": "dObZXrklZTNQ"
      },
      "execution_count": null,
      "outputs": []
    },
    {
      "cell_type": "code",
      "source": [
        "paragraph = \"\"\"\n",
        "Narendra Damodardas Modi (born 17 September 1950)[b] is an Indian politician who has served as the prime minister of India since 2014. Modi was the chief minister of Gujarat from 2001 to 2014 and is the member of parliament (MP) for Varanasi. He is a member of the Bharatiya Janata Party (BJP) and of the Rashtriya Swayamsevak Sangh (RSS), a right-wing Hindu nationalist paramilitary volunteer organisation. He is the longest-serving prime minister outside the Indian National Congress.\n",
        "\n",
        "Modi was born and raised in Vadnagar in northeastern Gujarat, where he completed his secondary education. He was introduced to the RSS at the age of eight. At the age of 18, he was married to Jashodaben Modi, whom he abandoned soon after, only publicly acknowledging her four decades later when legally required to do so. Modi became a full-time worker for the RSS in Gujarat in 1971. The RSS assigned him to the BJP in 1985 and he rose through the party hierarchy, becoming general secretary in 1998. In 2001, Modi was appointed chief minister of Gujarat and elected to the legislative assembly soon after. His administration is considered complicit in the 2002 Gujarat riots,[d] and has been criticised for its management of the crisis. According to official records, a little over 1,000 people were killed, three-quarters of whom were Muslim; independent sources estimated 2,000 deaths, mostly Muslim. A Special Investigation Team appointed by the Supreme Court of India in 2012 found no evidence to initiate prosecution proceedings against him.[e] While his policies as chief minister were credited for encouraging economic growth, his administration was criticised for failing to significantly improve health, poverty and education indices in the state\n",
        "\"\"\"\n",
        "paragraph"
      ],
      "metadata": {
        "colab": {
          "base_uri": "https://localhost:8080/",
          "height": 143
        },
        "id": "lq1dll-uZW8z",
        "outputId": "fc514306-56f5-4885-c0ec-052160eabb5f"
      },
      "execution_count": null,
      "outputs": [
        {
          "output_type": "execute_result",
          "data": {
            "text/plain": [
              "'\\nNarendra Damodardas Modi (born 17 September 1950)[b] is an Indian politician who has served as the prime minister of India since 2014. Modi was the chief minister of Gujarat from 2001 to 2014 and is the member of parliament (MP) for Varanasi. He is a member of the Bharatiya Janata Party (BJP) and of the Rashtriya Swayamsevak Sangh (RSS), a right-wing Hindu nationalist paramilitary volunteer organisation. He is the longest-serving prime minister outside the Indian National Congress.\\n\\nModi was born and raised in Vadnagar in northeastern Gujarat, where he completed his secondary education. He was introduced to the RSS at the age of eight. At the age of 18, he was married to Jashodaben Modi, whom he abandoned soon after, only publicly acknowledging her four decades later when legally required to do so. Modi became a full-time worker for the RSS in Gujarat in 1971. The RSS assigned him to the BJP in 1985 and he rose through the party hierarchy, becoming general secretary in 1998. In 2001, Modi was appointed chief minister of Gujarat and elected to the legislative assembly soon after. His administration is considered complicit in the 2002 Gujarat riots,[d] and has been criticised for its management of the crisis. According to official records, a little over 1,000 people were killed, three-quarters of whom were Muslim; independent sources estimated 2,000 deaths, mostly Muslim. A Special Investigation Team appointed by the Supreme Court of India in 2012 found no evidence to initiate prosecution proceedings against him.[e] While his policies as chief minister were credited for encouraging economic growth, his administration was criticised for failing to significantly improve health, poverty and education indices in the state\\n'"
            ],
            "application/vnd.google.colaboratory.intrinsic+json": {
              "type": "string"
            }
          },
          "metadata": {},
          "execution_count": 4
        }
      ]
    },
    {
      "cell_type": "code",
      "source": [
        "from nltk.stem import PorterStemmer\n",
        "from nltk.corpus import stopwords"
      ],
      "metadata": {
        "id": "MgwcJZXgZaX3"
      },
      "execution_count": null,
      "outputs": []
    },
    {
      "cell_type": "code",
      "source": [
        "# Tokenisation --> convert paragraph into sentences\n",
        "nltk.download('punkt')\n",
        "nltk.download('punkt_tab')"
      ],
      "metadata": {
        "colab": {
          "base_uri": "https://localhost:8080/"
        },
        "id": "b74e14iMZbke",
        "outputId": "32c74361-fe02-4db5-b2ac-8b55d8a10764"
      },
      "execution_count": null,
      "outputs": [
        {
          "output_type": "stream",
          "name": "stderr",
          "text": [
            "[nltk_data] Downloading package punkt to /root/nltk_data...\n",
            "[nltk_data]   Unzipping tokenizers/punkt.zip.\n",
            "[nltk_data] Downloading package punkt_tab to /root/nltk_data...\n",
            "[nltk_data]   Unzipping tokenizers/punkt_tab.zip.\n"
          ]
        },
        {
          "output_type": "execute_result",
          "data": {
            "text/plain": [
              "True"
            ]
          },
          "metadata": {},
          "execution_count": 6
        }
      ]
    },
    {
      "cell_type": "code",
      "source": [
        "sentence = nltk.sent_tokenize(paragraph)"
      ],
      "metadata": {
        "id": "oTqp28OSZ00a"
      },
      "execution_count": null,
      "outputs": []
    },
    {
      "cell_type": "code",
      "source": [
        "sentence"
      ],
      "metadata": {
        "colab": {
          "base_uri": "https://localhost:8080/"
        },
        "id": "jrZYW1qLaBgy",
        "outputId": "6a8f095c-2d76-4d45-cf4b-611a73f73f5d"
      },
      "execution_count": null,
      "outputs": [
        {
          "output_type": "execute_result",
          "data": {
            "text/plain": [
              "['\\nNarendra Damodardas Modi (born 17 September 1950)[b] is an Indian politician who has served as the prime minister of India since 2014.',\n",
              " 'Modi was the chief minister of Gujarat from 2001 to 2014 and is the member of parliament (MP) for Varanasi.',\n",
              " 'He is a member of the Bharatiya Janata Party (BJP) and of the Rashtriya Swayamsevak Sangh (RSS), a right-wing Hindu nationalist paramilitary volunteer organisation.',\n",
              " 'He is the longest-serving prime minister outside the Indian National Congress.',\n",
              " 'Modi was born and raised in Vadnagar in northeastern Gujarat, where he completed his secondary education.',\n",
              " 'He was introduced to the RSS at the age of eight.',\n",
              " 'At the age of 18, he was married to Jashodaben Modi, whom he abandoned soon after, only publicly acknowledging her four decades later when legally required to do so.',\n",
              " 'Modi became a full-time worker for the RSS in Gujarat in 1971.',\n",
              " 'The RSS assigned him to the BJP in 1985 and he rose through the party hierarchy, becoming general secretary in 1998.',\n",
              " 'In 2001, Modi was appointed chief minister of Gujarat and elected to the legislative assembly soon after.',\n",
              " 'His administration is considered complicit in the 2002 Gujarat riots,[d] and has been criticised for its management of the crisis.',\n",
              " 'According to official records, a little over 1,000 people were killed, three-quarters of whom were Muslim; independent sources estimated 2,000 deaths, mostly Muslim.',\n",
              " 'A Special Investigation Team appointed by the Supreme Court of India in 2012 found no evidence to initiate prosecution proceedings against him.',\n",
              " '[e] While his policies as chief minister were credited for encouraging economic growth, his administration was criticised for failing to significantly improve health, poverty and education indices in the state']"
            ]
          },
          "metadata": {},
          "execution_count": 8
        }
      ]
    },
    {
      "cell_type": "code",
      "source": [
        "len(sentence)"
      ],
      "metadata": {
        "colab": {
          "base_uri": "https://localhost:8080/"
        },
        "id": "WEH7Ubm8aGNE",
        "outputId": "93fba4e1-5ea9-40c6-c3b1-daca91ade3ea"
      },
      "execution_count": null,
      "outputs": [
        {
          "output_type": "execute_result",
          "data": {
            "text/plain": [
              "14"
            ]
          },
          "metadata": {},
          "execution_count": 9
        }
      ]
    },
    {
      "cell_type": "code",
      "source": [
        "# Stemming\n",
        "stemmer = PorterStemmer()\n",
        "stemmer.stem(\"drinking\")"
      ],
      "metadata": {
        "colab": {
          "base_uri": "https://localhost:8080/",
          "height": 35
        },
        "id": "gcTtC3aNaJvl",
        "outputId": "5bacf741-49d6-4763-ddfa-ce338ae9a7c5"
      },
      "execution_count": null,
      "outputs": [
        {
          "output_type": "execute_result",
          "data": {
            "text/plain": [
              "'drink'"
            ],
            "application/vnd.google.colaboratory.intrinsic+json": {
              "type": "string"
            }
          },
          "metadata": {},
          "execution_count": 10
        }
      ]
    },
    {
      "cell_type": "code",
      "source": [
        "stemmer.stem(\"history\")"
      ],
      "metadata": {
        "colab": {
          "base_uri": "https://localhost:8080/",
          "height": 35
        },
        "id": "iHSPjzItaV27",
        "outputId": "77c2f290-c5ee-4323-ab68-e33e3e5c0f7b"
      },
      "execution_count": null,
      "outputs": [
        {
          "output_type": "execute_result",
          "data": {
            "text/plain": [
              "'histori'"
            ],
            "application/vnd.google.colaboratory.intrinsic+json": {
              "type": "string"
            }
          },
          "metadata": {},
          "execution_count": 11
        }
      ]
    },
    {
      "cell_type": "code",
      "source": [
        "nltk.download('wordnet')\n",
        "from nltk.stem import WordNetLemmatizer\n",
        "lemmatizer = WordNetLemmatizer()\n"
      ],
      "metadata": {
        "colab": {
          "base_uri": "https://localhost:8080/"
        },
        "id": "jpjZ8K4WaZzP",
        "outputId": "587ca757-e6d2-4bb5-9b3e-b33ae53101a5"
      },
      "execution_count": null,
      "outputs": [
        {
          "output_type": "stream",
          "name": "stderr",
          "text": [
            "[nltk_data] Downloading package wordnet to /root/nltk_data...\n"
          ]
        }
      ]
    },
    {
      "cell_type": "code",
      "source": [
        "lemmatizer.lemmatize(\"history\")"
      ],
      "metadata": {
        "colab": {
          "base_uri": "https://localhost:8080/",
          "height": 35
        },
        "id": "_NiotLYmalUD",
        "outputId": "8ea611a0-875f-4530-fa46-e863aaddf94e"
      },
      "execution_count": null,
      "outputs": [
        {
          "output_type": "execute_result",
          "data": {
            "text/plain": [
              "'history'"
            ],
            "application/vnd.google.colaboratory.intrinsic+json": {
              "type": "string"
            }
          },
          "metadata": {},
          "execution_count": 13
        }
      ]
    },
    {
      "cell_type": "code",
      "source": [
        "lemmatizer.lemmatize(\"drinking\")"
      ],
      "metadata": {
        "colab": {
          "base_uri": "https://localhost:8080/",
          "height": 35
        },
        "id": "Jgk4VNq6bP3H",
        "outputId": "3fbabd09-a0d9-4e64-97c1-44a9ac6a93ec"
      },
      "execution_count": null,
      "outputs": [
        {
          "output_type": "execute_result",
          "data": {
            "text/plain": [
              "'drinking'"
            ],
            "application/vnd.google.colaboratory.intrinsic+json": {
              "type": "string"
            }
          },
          "metadata": {},
          "execution_count": 14
        }
      ]
    },
    {
      "cell_type": "code",
      "source": [
        "# Understanding Cleaning data (corpus)\n",
        "import re\n",
        "corpus = []\n",
        "for i in range(len(sentence)):\n",
        "  # Replace all the characters other than a-z and A-Z to \" \"\n",
        "  text = re.sub('[^a-zA-Z]', ' ', sentence[i])\n",
        "  text.lower()\n",
        "  text.split()\n",
        "  #text = text.split()\n",
        "  corpus.append(text)\n"
      ],
      "metadata": {
        "id": "xnQfj7GPbp9q"
      },
      "execution_count": null,
      "outputs": []
    },
    {
      "cell_type": "code",
      "source": [
        "corpus"
      ],
      "metadata": {
        "colab": {
          "base_uri": "https://localhost:8080/"
        },
        "id": "ct6ItK4CcoCI",
        "outputId": "0a058dfd-f4fc-4b34-f1b1-1e0f34bdefc6"
      },
      "execution_count": null,
      "outputs": [
        {
          "output_type": "execute_result",
          "data": {
            "text/plain": [
              "[' Narendra Damodardas Modi  born    September       b  is an Indian politician who has served as the prime minister of India since      ',\n",
              " 'Modi was the chief minister of Gujarat from      to      and is the member of parliament  MP  for Varanasi ',\n",
              " 'He is a member of the Bharatiya Janata Party  BJP  and of the Rashtriya Swayamsevak Sangh  RSS   a right wing Hindu nationalist paramilitary volunteer organisation ',\n",
              " 'He is the longest serving prime minister outside the Indian National Congress ',\n",
              " 'Modi was born and raised in Vadnagar in northeastern Gujarat  where he completed his secondary education ',\n",
              " 'He was introduced to the RSS at the age of eight ',\n",
              " 'At the age of     he was married to Jashodaben Modi  whom he abandoned soon after  only publicly acknowledging her four decades later when legally required to do so ',\n",
              " 'Modi became a full time worker for the RSS in Gujarat in      ',\n",
              " 'The RSS assigned him to the BJP in      and he rose through the party hierarchy  becoming general secretary in      ',\n",
              " 'In       Modi was appointed chief minister of Gujarat and elected to the legislative assembly soon after ',\n",
              " 'His administration is considered complicit in the      Gujarat riots  d  and has been criticised for its management of the crisis ',\n",
              " 'According to official records  a little over       people were killed  three quarters of whom were Muslim  independent sources estimated       deaths  mostly Muslim ',\n",
              " 'A Special Investigation Team appointed by the Supreme Court of India in      found no evidence to initiate prosecution proceedings against him ',\n",
              " ' e  While his policies as chief minister were credited for encouraging economic growth  his administration was criticised for failing to significantly improve health  poverty and education indices in the state']"
            ]
          },
          "metadata": {},
          "execution_count": 16
        }
      ]
    },
    {
      "cell_type": "code",
      "source": [
        "# Understanding stemming on corpus\n",
        "nltk.download('stopwords')\n",
        "\n",
        "for i in corpus:\n",
        "  # Understanding converting every sentence into word\n",
        "  words = nltk.word_tokenize(i)\n",
        "\n",
        "  for word in words:\n",
        "    # Understanding applying lemmatization if word is not in stopwords of english\n",
        "    if word not in set(stopwords.words('english')):\n",
        "      print(lemmatizer.lemmatize(word))\n",
        "\n",
        "    # stemmer.stem(word)"
      ],
      "metadata": {
        "colab": {
          "base_uri": "https://localhost:8080/"
        },
        "id": "3HWV4_B-cv0V",
        "outputId": "735e5b3c-62d0-4859-dc30-d8a574228ea1"
      },
      "execution_count": null,
      "outputs": [
        {
          "output_type": "stream",
          "name": "stderr",
          "text": [
            "[nltk_data] Downloading package stopwords to /root/nltk_data...\n"
          ]
        },
        {
          "output_type": "stream",
          "name": "stdout",
          "text": [
            "Narendra\n",
            "Damodardas\n",
            "Modi\n",
            "born\n",
            "September\n",
            "b\n",
            "Indian\n",
            "politician\n",
            "served\n",
            "prime\n",
            "minister\n",
            "India\n",
            "since\n",
            "Modi\n",
            "chief\n",
            "minister\n",
            "Gujarat\n",
            "member\n",
            "parliament\n",
            "MP\n",
            "Varanasi\n",
            "He\n",
            "member\n",
            "Bharatiya\n",
            "Janata\n",
            "Party\n",
            "BJP\n",
            "Rashtriya\n",
            "Swayamsevak\n",
            "Sangh\n",
            "RSS\n",
            "right\n",
            "wing\n",
            "Hindu\n",
            "nationalist\n",
            "paramilitary\n",
            "volunteer\n",
            "organisation\n",
            "He\n",
            "longest\n",
            "serving\n",
            "prime\n",
            "minister\n",
            "outside\n",
            "Indian\n",
            "National\n",
            "Congress\n",
            "Modi\n",
            "born\n",
            "raised\n",
            "Vadnagar\n",
            "northeastern\n",
            "Gujarat\n",
            "completed\n",
            "secondary\n",
            "education\n",
            "He\n",
            "introduced\n",
            "RSS\n",
            "age\n",
            "eight\n",
            "At\n",
            "age\n",
            "married\n",
            "Jashodaben\n",
            "Modi\n",
            "abandoned\n",
            "soon\n",
            "publicly\n",
            "acknowledging\n",
            "four\n",
            "decade\n",
            "later\n",
            "legally\n",
            "required\n",
            "Modi\n",
            "became\n",
            "full\n",
            "time\n",
            "worker\n",
            "RSS\n",
            "Gujarat\n",
            "The\n",
            "RSS\n",
            "assigned\n",
            "BJP\n",
            "rose\n",
            "party\n",
            "hierarchy\n",
            "becoming\n",
            "general\n",
            "secretary\n",
            "In\n",
            "Modi\n",
            "appointed\n",
            "chief\n",
            "minister\n",
            "Gujarat\n",
            "elected\n",
            "legislative\n",
            "assembly\n",
            "soon\n",
            "His\n",
            "administration\n",
            "considered\n",
            "complicit\n",
            "Gujarat\n",
            "riot\n",
            "criticised\n",
            "management\n",
            "crisis\n",
            "According\n",
            "official\n",
            "record\n",
            "little\n",
            "people\n",
            "killed\n",
            "three\n",
            "quarter\n",
            "Muslim\n",
            "independent\n",
            "source\n",
            "estimated\n",
            "death\n",
            "mostly\n",
            "Muslim\n",
            "A\n",
            "Special\n",
            "Investigation\n",
            "Team\n",
            "appointed\n",
            "Supreme\n",
            "Court\n",
            "India\n",
            "found\n",
            "evidence\n",
            "initiate\n",
            "prosecution\n",
            "proceeding\n",
            "e\n",
            "While\n",
            "policy\n",
            "chief\n",
            "minister\n",
            "credited\n",
            "encouraging\n",
            "economic\n",
            "growth\n",
            "administration\n",
            "criticised\n",
            "failing\n",
            "significantly\n",
            "improve\n",
            "health\n",
            "poverty\n",
            "education\n",
            "index\n",
            "state\n"
          ]
        },
        {
          "output_type": "stream",
          "name": "stderr",
          "text": [
            "[nltk_data]   Unzipping corpora/stopwords.zip.\n"
          ]
        }
      ]
    },
    {
      "cell_type": "code",
      "source": [
        "# understanding stopwords in english\n",
        "stopwords.words('english')"
      ],
      "metadata": {
        "colab": {
          "base_uri": "https://localhost:8080/"
        },
        "id": "vwHe_2w0d7NT",
        "outputId": "416fbea3-7c5f-4f21-d25d-93d130a0d645"
      },
      "execution_count": null,
      "outputs": [
        {
          "output_type": "execute_result",
          "data": {
            "text/plain": [
              "['a',\n",
              " 'about',\n",
              " 'above',\n",
              " 'after',\n",
              " 'again',\n",
              " 'against',\n",
              " 'ain',\n",
              " 'all',\n",
              " 'am',\n",
              " 'an',\n",
              " 'and',\n",
              " 'any',\n",
              " 'are',\n",
              " 'aren',\n",
              " \"aren't\",\n",
              " 'as',\n",
              " 'at',\n",
              " 'be',\n",
              " 'because',\n",
              " 'been',\n",
              " 'before',\n",
              " 'being',\n",
              " 'below',\n",
              " 'between',\n",
              " 'both',\n",
              " 'but',\n",
              " 'by',\n",
              " 'can',\n",
              " 'couldn',\n",
              " \"couldn't\",\n",
              " 'd',\n",
              " 'did',\n",
              " 'didn',\n",
              " \"didn't\",\n",
              " 'do',\n",
              " 'does',\n",
              " 'doesn',\n",
              " \"doesn't\",\n",
              " 'doing',\n",
              " 'don',\n",
              " \"don't\",\n",
              " 'down',\n",
              " 'during',\n",
              " 'each',\n",
              " 'few',\n",
              " 'for',\n",
              " 'from',\n",
              " 'further',\n",
              " 'had',\n",
              " 'hadn',\n",
              " \"hadn't\",\n",
              " 'has',\n",
              " 'hasn',\n",
              " \"hasn't\",\n",
              " 'have',\n",
              " 'haven',\n",
              " \"haven't\",\n",
              " 'having',\n",
              " 'he',\n",
              " \"he'd\",\n",
              " \"he'll\",\n",
              " 'her',\n",
              " 'here',\n",
              " 'hers',\n",
              " 'herself',\n",
              " \"he's\",\n",
              " 'him',\n",
              " 'himself',\n",
              " 'his',\n",
              " 'how',\n",
              " 'i',\n",
              " \"i'd\",\n",
              " 'if',\n",
              " \"i'll\",\n",
              " \"i'm\",\n",
              " 'in',\n",
              " 'into',\n",
              " 'is',\n",
              " 'isn',\n",
              " \"isn't\",\n",
              " 'it',\n",
              " \"it'd\",\n",
              " \"it'll\",\n",
              " \"it's\",\n",
              " 'its',\n",
              " 'itself',\n",
              " \"i've\",\n",
              " 'just',\n",
              " 'll',\n",
              " 'm',\n",
              " 'ma',\n",
              " 'me',\n",
              " 'mightn',\n",
              " \"mightn't\",\n",
              " 'more',\n",
              " 'most',\n",
              " 'mustn',\n",
              " \"mustn't\",\n",
              " 'my',\n",
              " 'myself',\n",
              " 'needn',\n",
              " \"needn't\",\n",
              " 'no',\n",
              " 'nor',\n",
              " 'not',\n",
              " 'now',\n",
              " 'o',\n",
              " 'of',\n",
              " 'off',\n",
              " 'on',\n",
              " 'once',\n",
              " 'only',\n",
              " 'or',\n",
              " 'other',\n",
              " 'our',\n",
              " 'ours',\n",
              " 'ourselves',\n",
              " 'out',\n",
              " 'over',\n",
              " 'own',\n",
              " 're',\n",
              " 's',\n",
              " 'same',\n",
              " 'shan',\n",
              " \"shan't\",\n",
              " 'she',\n",
              " \"she'd\",\n",
              " \"she'll\",\n",
              " \"she's\",\n",
              " 'should',\n",
              " 'shouldn',\n",
              " \"shouldn't\",\n",
              " \"should've\",\n",
              " 'so',\n",
              " 'some',\n",
              " 'such',\n",
              " 't',\n",
              " 'than',\n",
              " 'that',\n",
              " \"that'll\",\n",
              " 'the',\n",
              " 'their',\n",
              " 'theirs',\n",
              " 'them',\n",
              " 'themselves',\n",
              " 'then',\n",
              " 'there',\n",
              " 'these',\n",
              " 'they',\n",
              " \"they'd\",\n",
              " \"they'll\",\n",
              " \"they're\",\n",
              " \"they've\",\n",
              " 'this',\n",
              " 'those',\n",
              " 'through',\n",
              " 'to',\n",
              " 'too',\n",
              " 'under',\n",
              " 'until',\n",
              " 'up',\n",
              " 've',\n",
              " 'very',\n",
              " 'was',\n",
              " 'wasn',\n",
              " \"wasn't\",\n",
              " 'we',\n",
              " \"we'd\",\n",
              " \"we'll\",\n",
              " \"we're\",\n",
              " 'were',\n",
              " 'weren',\n",
              " \"weren't\",\n",
              " \"we've\",\n",
              " 'what',\n",
              " 'when',\n",
              " 'where',\n",
              " 'which',\n",
              " 'while',\n",
              " 'who',\n",
              " 'whom',\n",
              " 'why',\n",
              " 'will',\n",
              " 'with',\n",
              " 'won',\n",
              " \"won't\",\n",
              " 'wouldn',\n",
              " \"wouldn't\",\n",
              " 'y',\n",
              " 'you',\n",
              " \"you'd\",\n",
              " \"you'll\",\n",
              " 'your',\n",
              " \"you're\",\n",
              " 'yours',\n",
              " 'yourself',\n",
              " 'yourselves',\n",
              " \"you've\"]"
            ]
          },
          "metadata": {},
          "execution_count": 18
        }
      ]
    },
    {
      "cell_type": "code",
      "source": [
        "# Understanding vocabulary and Bag of Words\n",
        "from sklearn.feature_extraction.text import CountVectorizer\n",
        "cv = CountVectorizer(binary=True)\n",
        "\n",
        "x = cv.fit_transform(corpus)"
      ],
      "metadata": {
        "id": "43PSvn59efyb"
      },
      "execution_count": null,
      "outputs": []
    },
    {
      "cell_type": "code",
      "source": [
        "cv.vocabulary_"
      ],
      "metadata": {
        "colab": {
          "base_uri": "https://localhost:8080/"
        },
        "id": "MX8F9sr-e4ft",
        "outputId": "a556939d-9193-4b1d-ec65-3aa44799438c"
      },
      "execution_count": null,
      "outputs": [
        {
          "output_type": "execute_result",
          "data": {
            "text/plain": [
              "{'narendra': 66,\n",
              " 'damodardas': 22,\n",
              " 'modi': 62,\n",
              " 'born': 12,\n",
              " 'september': 96,\n",
              " 'indian': 46,\n",
              " 'politician': 78,\n",
              " 'served': 97,\n",
              " 'prime': 80,\n",
              " 'minister': 61,\n",
              " 'india': 45,\n",
              " 'since': 100,\n",
              " 'chief': 13,\n",
              " 'gujarat': 38,\n",
              " 'member': 60,\n",
              " 'parliament': 74,\n",
              " 'mp': 64,\n",
              " 'varanasi': 111,\n",
              " 'bharatiya': 10,\n",
              " 'janata': 50,\n",
              " 'party': 75,\n",
              " 'bjp': 11,\n",
              " 'rashtriya': 86,\n",
              " 'swayamsevak': 106,\n",
              " 'sangh': 93,\n",
              " 'rss': 92,\n",
              " 'right': 89,\n",
              " 'wing': 113,\n",
              " 'hindu': 41,\n",
              " 'nationalist': 68,\n",
              " 'paramilitary': 73,\n",
              " 'volunteer': 112,\n",
              " 'organisation': 71,\n",
              " 'longest': 57,\n",
              " 'serving': 98,\n",
              " 'outside': 72,\n",
              " 'national': 67,\n",
              " 'congress': 16,\n",
              " 'raised': 85,\n",
              " 'vadnagar': 110,\n",
              " 'northeastern': 69,\n",
              " 'completed': 14,\n",
              " 'secondary': 94,\n",
              " 'education': 26,\n",
              " 'introduced': 48,\n",
              " 'age': 4,\n",
              " 'eight': 27,\n",
              " 'married': 59,\n",
              " 'jashodaben': 51,\n",
              " 'abandoned': 0,\n",
              " 'soon': 101,\n",
              " 'publicly': 83,\n",
              " 'acknowledging': 2,\n",
              " 'four': 34,\n",
              " 'decade': 24,\n",
              " 'later': 53,\n",
              " 'legally': 54,\n",
              " 'required': 88,\n",
              " 'became': 8,\n",
              " 'full': 35,\n",
              " 'time': 109,\n",
              " 'worker': 114,\n",
              " 'assigned': 7,\n",
              " 'rose': 91,\n",
              " 'hierarchy': 40,\n",
              " 'becoming': 9,\n",
              " 'general': 36,\n",
              " 'secretary': 95,\n",
              " 'appointed': 5,\n",
              " 'elected': 28,\n",
              " 'legislative': 55,\n",
              " 'assembly': 6,\n",
              " 'administration': 3,\n",
              " 'considered': 17,\n",
              " 'complicit': 15,\n",
              " 'riot': 90,\n",
              " 'criticised': 21,\n",
              " 'management': 58,\n",
              " 'crisis': 20,\n",
              " 'according': 1,\n",
              " 'official': 70,\n",
              " 'record': 87,\n",
              " 'little': 56,\n",
              " 'people': 76,\n",
              " 'killed': 52,\n",
              " 'three': 108,\n",
              " 'quarter': 84,\n",
              " 'muslim': 65,\n",
              " 'independent': 43,\n",
              " 'source': 102,\n",
              " 'estimated': 30,\n",
              " 'death': 23,\n",
              " 'mostly': 63,\n",
              " 'special': 103,\n",
              " 'investigation': 49,\n",
              " 'team': 107,\n",
              " 'supreme': 105,\n",
              " 'court': 18,\n",
              " 'found': 33,\n",
              " 'evidence': 31,\n",
              " 'initiate': 47,\n",
              " 'prosecution': 82,\n",
              " 'proceeding': 81,\n",
              " 'policy': 77,\n",
              " 'credited': 19,\n",
              " 'encouraging': 29,\n",
              " 'economic': 25,\n",
              " 'growth': 37,\n",
              " 'failing': 32,\n",
              " 'significantly': 99,\n",
              " 'improve': 42,\n",
              " 'health': 39,\n",
              " 'poverty': 79,\n",
              " 'index': 44,\n",
              " 'state': 104}"
            ]
          },
          "metadata": {},
          "execution_count": 27
        }
      ]
    },
    {
      "cell_type": "code",
      "source": [
        "# Get Bag of Words for first sentence in corpus\n",
        "x[0].toarray()"
      ],
      "metadata": {
        "colab": {
          "base_uri": "https://localhost:8080/"
        },
        "id": "wzdE1ERifN8l",
        "outputId": "9f7b56eb-ec14-4e99-fd96-c126cf727c53"
      },
      "execution_count": null,
      "outputs": [
        {
          "output_type": "execute_result",
          "data": {
            "text/plain": [
              "array([[0, 0, 0, 0, 0, 0, 0, 1, 0, 0, 1, 0, 0, 0, 0, 0, 0, 0, 0, 1, 0, 0,\n",
              "        0, 0, 0, 0, 0, 0, 0, 0, 1, 0, 0, 0, 0, 0, 0, 0, 0, 0, 0, 0, 0, 0,\n",
              "        0, 0, 0, 0, 0, 0, 1, 0, 0, 0, 0, 0, 0, 0, 0, 0, 0, 1, 1, 0, 0, 0,\n",
              "        0, 1, 0, 0, 0, 0, 0, 0, 0, 0, 0, 0, 0, 0, 1, 1, 0, 0, 0, 1, 0, 0,\n",
              "        0, 0, 1, 0, 0, 0, 0, 0, 0, 0, 0, 0, 0, 1, 0, 1, 0, 0, 0, 0, 0, 0,\n",
              "        0, 0, 0, 0, 0, 0, 0, 0, 0, 1, 1, 0, 0, 1, 0, 0, 0, 0, 0, 0, 0, 0,\n",
              "        1, 0, 0, 0, 0, 0, 0, 0, 0, 0, 0, 0, 0, 1, 0, 0, 0]])"
            ]
          },
          "metadata": {},
          "execution_count": 21
        }
      ]
    },
    {
      "cell_type": "code",
      "source": [
        "corpus[0]"
      ],
      "metadata": {
        "colab": {
          "base_uri": "https://localhost:8080/",
          "height": 35
        },
        "id": "SCjxsyx6fsPX",
        "outputId": "552c7c8b-7e43-42f8-bb21-edbff4a67592"
      },
      "execution_count": null,
      "outputs": [
        {
          "output_type": "execute_result",
          "data": {
            "text/plain": [
              "' Narendra Damodardas Modi  born    September       b  is an Indian politician who has served as the prime minister of India since      '"
            ],
            "application/vnd.google.colaboratory.intrinsic+json": {
              "type": "string"
            }
          },
          "metadata": {},
          "execution_count": 22
        }
      ]
    },
    {
      "cell_type": "code",
      "source": [
        "# Actually Cleanign Corpus and applying Lemmatization\n",
        "corpus = []\n",
        "for i in range(len(sentence)):\n",
        "  # Replace all the characters other than a-z and A-Z to \" \"\n",
        "  review = re.sub('[^a-zA-Z]', ' ', sentence[i])\n",
        "  review = review.lower()\n",
        "  review = review.split()\n",
        "  # Lemmatize each word if it is not a stopword and assign list of lemmatized words to review\n",
        "  review = [lemmatizer.lemmatize(word) for word in review if not word in stopwords.words(\"english\")]\n",
        "  review = (\" \").join(review)\n",
        "  corpus.append(review)\n"
      ],
      "metadata": {
        "id": "dwdQ9bso1hXk"
      },
      "execution_count": null,
      "outputs": []
    },
    {
      "cell_type": "code",
      "source": [
        "corpus"
      ],
      "metadata": {
        "colab": {
          "base_uri": "https://localhost:8080/"
        },
        "id": "6nziS_Mi3Upf",
        "outputId": "33c929cc-eeb5-4232-8388-0ee76d840521"
      },
      "execution_count": null,
      "outputs": [
        {
          "output_type": "execute_result",
          "data": {
            "text/plain": [
              "['narendra damodardas modi born september b indian politician served prime minister india since',\n",
              " 'modi chief minister gujarat member parliament mp varanasi',\n",
              " 'member bharatiya janata party bjp rashtriya swayamsevak sangh rss right wing hindu nationalist paramilitary volunteer organisation',\n",
              " 'longest serving prime minister outside indian national congress',\n",
              " 'modi born raised vadnagar northeastern gujarat completed secondary education',\n",
              " 'introduced rss age eight',\n",
              " 'age married jashodaben modi abandoned soon publicly acknowledging four decade later legally required',\n",
              " 'modi became full time worker rss gujarat',\n",
              " 'rss assigned bjp rose party hierarchy becoming general secretary',\n",
              " 'modi appointed chief minister gujarat elected legislative assembly soon',\n",
              " 'administration considered complicit gujarat riot criticised management crisis',\n",
              " 'according official record little people killed three quarter muslim independent source estimated death mostly muslim',\n",
              " 'special investigation team appointed supreme court india found evidence initiate prosecution proceeding',\n",
              " 'e policy chief minister credited encouraging economic growth administration criticised failing significantly improve health poverty education index state']"
            ]
          },
          "metadata": {},
          "execution_count": 25
        }
      ]
    },
    {
      "cell_type": "code",
      "source": [
        "# Apply and fetch vocabulary and Bag of Words to cleaned data\n",
        "x = cv.fit_transform(corpus)"
      ],
      "metadata": {
        "id": "65LKgnG03cI1"
      },
      "execution_count": null,
      "outputs": []
    },
    {
      "cell_type": "code",
      "source": [
        "# vocabulary is dictionary containg word index mapping\n",
        "cv.vocabulary_"
      ],
      "metadata": {
        "colab": {
          "base_uri": "https://localhost:8080/"
        },
        "id": "ZI1-9J_J3dRC",
        "outputId": "707d3a80-8b62-4298-964e-04f8ec6f56f1"
      },
      "execution_count": null,
      "outputs": [
        {
          "output_type": "execute_result",
          "data": {
            "text/plain": [
              "{'narendra': 66,\n",
              " 'damodardas': 22,\n",
              " 'modi': 62,\n",
              " 'born': 12,\n",
              " 'september': 96,\n",
              " 'indian': 46,\n",
              " 'politician': 78,\n",
              " 'served': 97,\n",
              " 'prime': 80,\n",
              " 'minister': 61,\n",
              " 'india': 45,\n",
              " 'since': 100,\n",
              " 'chief': 13,\n",
              " 'gujarat': 38,\n",
              " 'member': 60,\n",
              " 'parliament': 74,\n",
              " 'mp': 64,\n",
              " 'varanasi': 111,\n",
              " 'bharatiya': 10,\n",
              " 'janata': 50,\n",
              " 'party': 75,\n",
              " 'bjp': 11,\n",
              " 'rashtriya': 86,\n",
              " 'swayamsevak': 106,\n",
              " 'sangh': 93,\n",
              " 'rss': 92,\n",
              " 'right': 89,\n",
              " 'wing': 113,\n",
              " 'hindu': 41,\n",
              " 'nationalist': 68,\n",
              " 'paramilitary': 73,\n",
              " 'volunteer': 112,\n",
              " 'organisation': 71,\n",
              " 'longest': 57,\n",
              " 'serving': 98,\n",
              " 'outside': 72,\n",
              " 'national': 67,\n",
              " 'congress': 16,\n",
              " 'raised': 85,\n",
              " 'vadnagar': 110,\n",
              " 'northeastern': 69,\n",
              " 'completed': 14,\n",
              " 'secondary': 94,\n",
              " 'education': 26,\n",
              " 'introduced': 48,\n",
              " 'age': 4,\n",
              " 'eight': 27,\n",
              " 'married': 59,\n",
              " 'jashodaben': 51,\n",
              " 'abandoned': 0,\n",
              " 'soon': 101,\n",
              " 'publicly': 83,\n",
              " 'acknowledging': 2,\n",
              " 'four': 34,\n",
              " 'decade': 24,\n",
              " 'later': 53,\n",
              " 'legally': 54,\n",
              " 'required': 88,\n",
              " 'became': 8,\n",
              " 'full': 35,\n",
              " 'time': 109,\n",
              " 'worker': 114,\n",
              " 'assigned': 7,\n",
              " 'rose': 91,\n",
              " 'hierarchy': 40,\n",
              " 'becoming': 9,\n",
              " 'general': 36,\n",
              " 'secretary': 95,\n",
              " 'appointed': 5,\n",
              " 'elected': 28,\n",
              " 'legislative': 55,\n",
              " 'assembly': 6,\n",
              " 'administration': 3,\n",
              " 'considered': 17,\n",
              " 'complicit': 15,\n",
              " 'riot': 90,\n",
              " 'criticised': 21,\n",
              " 'management': 58,\n",
              " 'crisis': 20,\n",
              " 'according': 1,\n",
              " 'official': 70,\n",
              " 'record': 87,\n",
              " 'little': 56,\n",
              " 'people': 76,\n",
              " 'killed': 52,\n",
              " 'three': 108,\n",
              " 'quarter': 84,\n",
              " 'muslim': 65,\n",
              " 'independent': 43,\n",
              " 'source': 102,\n",
              " 'estimated': 30,\n",
              " 'death': 23,\n",
              " 'mostly': 63,\n",
              " 'special': 103,\n",
              " 'investigation': 49,\n",
              " 'team': 107,\n",
              " 'supreme': 105,\n",
              " 'court': 18,\n",
              " 'found': 33,\n",
              " 'evidence': 31,\n",
              " 'initiate': 47,\n",
              " 'prosecution': 82,\n",
              " 'proceeding': 81,\n",
              " 'policy': 77,\n",
              " 'credited': 19,\n",
              " 'encouraging': 29,\n",
              " 'economic': 25,\n",
              " 'growth': 37,\n",
              " 'failing': 32,\n",
              " 'significantly': 99,\n",
              " 'improve': 42,\n",
              " 'health': 39,\n",
              " 'poverty': 79,\n",
              " 'index': 44,\n",
              " 'state': 104}"
            ]
          },
          "metadata": {},
          "execution_count": 28
        }
      ]
    },
    {
      "cell_type": "code",
      "source": [
        "x[0].toarray()"
      ],
      "metadata": {
        "colab": {
          "base_uri": "https://localhost:8080/"
        },
        "id": "2TrAVYi930uE",
        "outputId": "ed163cf0-a100-4ff1-b8db-5f4627ef1f8d"
      },
      "execution_count": null,
      "outputs": [
        {
          "output_type": "execute_result",
          "data": {
            "text/plain": [
              "array([[0, 0, 0, 0, 0, 0, 0, 0, 0, 0, 0, 0, 1, 0, 0, 0, 0, 0, 0, 0, 0, 0,\n",
              "        1, 0, 0, 0, 0, 0, 0, 0, 0, 0, 0, 0, 0, 0, 0, 0, 0, 0, 0, 0, 0, 0,\n",
              "        0, 1, 1, 0, 0, 0, 0, 0, 0, 0, 0, 0, 0, 0, 0, 0, 0, 1, 1, 0, 0, 0,\n",
              "        1, 0, 0, 0, 0, 0, 0, 0, 0, 0, 0, 0, 1, 0, 1, 0, 0, 0, 0, 0, 0, 0,\n",
              "        0, 0, 0, 0, 0, 0, 0, 0, 1, 1, 0, 0, 1, 0, 0, 0, 0, 0, 0, 0, 0, 0,\n",
              "        0, 0, 0, 0, 0]])"
            ]
          },
          "metadata": {},
          "execution_count": 29
        }
      ]
    },
    {
      "cell_type": "code",
      "source": [
        "corpus[0]"
      ],
      "metadata": {
        "colab": {
          "base_uri": "https://localhost:8080/",
          "height": 35
        },
        "id": "7kggHTxJ346T",
        "outputId": "20f94096-e13b-4607-f06a-67750ba2d660"
      },
      "execution_count": null,
      "outputs": [
        {
          "output_type": "execute_result",
          "data": {
            "text/plain": [
              "'narendra damodardas modi born september b indian politician served prime minister india since'"
            ],
            "application/vnd.google.colaboratory.intrinsic+json": {
              "type": "string"
            }
          },
          "metadata": {},
          "execution_count": 30
        }
      ]
    }
  ]
}